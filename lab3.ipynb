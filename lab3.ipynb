{
  "cells": [
    {
      "cell_type": "markdown",
      "metadata": {
        "colab_type": "text",
        "id": "view-in-github"
      },
      "source": [
        "<a href=\"https://colab.research.google.com/github/pui-sum-rv/lab3/blob/main/lab3.ipynb\" target=\"_parent\"><img src=\"https://colab.research.google.com/assets/colab-badge.svg\" alt=\"Open In Colab\"/></a>"
      ]
    },
    {
      "cell_type": "markdown",
      "metadata": {
        "id": "e8vtuqXEBP1j"
      },
      "source": [
        "# Lab 3 - Plotting, Noise and Noise Removal\n",
        "\n",
        "These laboratory excersises are solved on Google Colab and are save on GitHub repo that is connected to GitHub Classroom.\n",
        "\n",
        "## Tools You need to use to Submit Assignments\n",
        "\n",
        "In this document, you will solve tasks. This is a Jupyter Notebook which has the **.ipynb** extension, is an interactive web environment for data analysis, visualization, solution presentations, education, and more.\n",
        "\n",
        "**Google Colab** is a tool that allows you to run and share Jupyter Notebook files on Google's servers, including the use of Google's CPU, GPU, and TPU resources. Colab is like Google Docs for Jupyter Notebooks. **Google Colab does not automatically save your assignment to GitHub.**\n",
        "\n",
        "**You use GitHub to save and submit your assignments.** When you accept the assignment through GitHub Classroom, a repository is automatically created on your GitHub account with a copy of the task. This is where you will save your solutions. Saving your solutions submits the tasks for that lab.\n",
        "\n",
        "## How to Solve the Tasks?\n",
        "1. Accept the task via the Google Classroom link that you will receive. Google Classroom will create a repository on your account.\n",
        "2. Go to the newly created repository on your account and click on the .ipynb file, then click Open in Colab.\n",
        "3. You will solve the tasks in Google Colab.\n",
        "\n",
        "## How to Save (Submit) Tasks?\n",
        "\n",
        "1. In Google Colab, click on the Open settings gear icon in the top-right corner.\n",
        "2. Click on the GitHub tab and check the box for Access private repositories and organizations.\n",
        "3. A new window will open for you to grant access to GitHub. For ferit-osirv, click Grant.\n",
        "4. Save and exit the settings.\n",
        "5. Click on File > Save a copy in GitHub.\n",
        "6. Select the lab repository that includes your name.\n",
        "\n",
        "> *Note:* You only need to complete steps 1-4 the first time.\n",
        "\n",
        "7. Click on **File > Save a copy in GitHub**.\n",
        "8. Select created repository **koji uključuje vaše ime**."
      ]
    },
    {
      "cell_type": "markdown",
      "metadata": {
        "id": "feUPz7IDCbDx"
      },
      "source": [
        "## Copying Files from the GitHub Repository\n",
        "\n",
        "For completing the exercises, you will need images and other files that will be stored in the GitHub repository of the exercise. A command like this will be available in the notebook for each exercise. It will copy the files from GitHub to the Google Colab environment.\n",
        "\n",
        "**You need to run this command before starting each exercise.**"
      ]
    },
    {
      "cell_type": "code",
      "execution_count": null,
      "metadata": {
        "colab": {
          "base_uri": "https://localhost:8080/"
        },
        "id": "QpP_i0KgCefb",
        "outputId": "e08a0979-cb3c-41f4-be61-07957597ae31"
      },
      "outputs": [],
      "source": [
        "!rm -rf clone && git clone https://github.com/pui-sum-rv/lab3 clone && cp -a clone/. ."
      ]
    },
    {
      "cell_type": "markdown",
      "metadata": {
        "id": "XIPg8Vf9Cr8D"
      },
      "source": [
        "**Google Colab will occasionally delete all files**. Therefore, you might need to rerun this command between sessions. If you encounter errors indicating that files do not exist, try running the command again."
      ]
    },
    {
      "cell_type": "code",
      "execution_count": null,
      "metadata": {
        "id": "EXS_YJC2WsWD"
      },
      "outputs": [],
      "source": [
        "import numpy as np\n",
        "import cv2 as cv\n",
        "import matplotlib.pyplot as plt"
      ]
    },
    {
      "cell_type": "markdown",
      "metadata": {},
      "source": [
        "## Introduction to Matplotlib\n",
        "\n",
        "Matplotlib is probably the most commonly used Python package for 2D graphics visualization. This package provides a fast way to visualize data from Python, as well as the ability to create high-quality images in many different formats.\n",
        "\n",
        "`matplotlib.pyplot` is a collection of functions that make matplotlib behave similarly to MATLAB, making it easy for those with experience in MATLAB plotting to quickly adapt.\n",
        "\n",
        "`matplotlib.pyplot` is _stateful_, which means it keeps track of the current figure, and all commands are directed at that figure.\n",
        "\n",
        "### Simple Plots\n",
        "\n",
        "In this section, we will show how to use matplotlib to plot some simple graphs. We'll start with the default settings, and then gradually improve the appearance of the graphs.\n",
        "\n",
        "As the first step, we need to create the data that we will display on the plots."
      ]
    },
    {
      "cell_type": "code",
      "execution_count": null,
      "metadata": {},
      "outputs": [],
      "source": [
        "X    = np.linspace(-np.pi, np.pi, 256, endpoint=True)\n",
        "C, S = np.cos(X), np.sin(X)"
      ]
    },
    {
      "cell_type": "markdown",
      "metadata": {},
      "source": [
        "The above code will create a numpy array `X` with 256 elements in the range from $`-\\pi`$ to $`\\pi`$. \n",
        "\n",
        "After that, we store the cosines and sines of each element in `X` into variables `C` and `S`. Thus, the arrays `C` and `S` have the same number of elements as the array `X`, which we can confirm with the following code."
      ]
    },
    {
      "cell_type": "code",
      "execution_count": null,
      "metadata": {},
      "outputs": [],
      "source": [
        "print(X.shape, X.min(), X.max())\n",
        "print(C.shape, C.min(), C.max())\n",
        "print(S.shape, S.min(), S.max())"
      ]
    },
    {
      "cell_type": "markdown",
      "metadata": {},
      "source": [
        "To be able to plot the given arrays, we need to include the matplotlib package in our script."
      ]
    },
    {
      "cell_type": "code",
      "execution_count": null,
      "metadata": {},
      "outputs": [],
      "source": [
        "import matplotlib.pyplot as plt"
      ]
    },
    {
      "cell_type": "markdown",
      "metadata": {},
      "source": [
        "Now, the plotting functions of matplotlib are included in our script under the name `plt`, and we access them with `plt.`. The basic function for plotting is `plot()`, which we call with `plt.plot(variable_name)`, and it accepts one or more parameters. If we provide a single parameter, the function assumes that all values in the given variable should be plotted on the $`y`$ axis, while it assigns values from 0 to the number of elements in the variable to the $`x`$ axis. The function `plt.show()` is used to display the plot created by the `plot()` function."
      ]
    },
    {
      "cell_type": "code",
      "execution_count": null,
      "metadata": {},
      "outputs": [],
      "source": [
        "X    = np.linspace(-np.pi, np.pi, 256, endpoint=True)\n",
        "C, S = np.cos(X), np.sin(X)\n",
        "\n",
        "plt.plot( X )\n",
        "plt.show()\n",
        "plt.plot( C )\n",
        "plt.show()\n",
        "plt.plot( S )\n",
        "plt.show()"
      ]
    },
    {
      "cell_type": "markdown",
      "metadata": {},
      "source": [
        "If we want to plot two variables where one depends on the other, as in this case where `X` is the independent variable and `C` and `S` are dependent variables, we will provide both variables as parameters to the function. First, we pass the independent variable (`X`), which will be plotted on the $`x`$ axis, followed by the dependent variable (`C` or `S`), which will be plotted on the $`y`$ axis."
      ]
    },
    {
      "cell_type": "code",
      "execution_count": null,
      "metadata": {},
      "outputs": [],
      "source": [
        "X    = np.linspace(-np.pi, np.pi, 256, endpoint=True)\n",
        "C, S = np.cos(X), np.sin(X)\n",
        "\n",
        "plt.plot( X, C )\n",
        "plt.show()\n",
        "plt.plot( X, S )\n",
        "plt.show()"
      ]
    },
    {
      "cell_type": "markdown",
      "metadata": {},
      "source": [
        "If we want to plot more than one variable on the same graph, we add them using the `plot()` function, without calling `plt.show()` in between. This approach is equivalent to the `hold on` command in MATLAB. Calling the `plt.show()` function displays the current graph on the screen, and all subsequent `plt.plot()` function calls are executed on a new graph, which is also displayed with another call to the `plt.show()` function."
      ]
    },
    {
      "cell_type": "code",
      "execution_count": null,
      "metadata": {},
      "outputs": [],
      "source": [
        "X    = np.linspace(-np.pi, np.pi, 256, endpoint=True)\n",
        "C, S = np.cos(X), np.sin(X)\n",
        "\n",
        "plt.plot( X, C )\n",
        "plt.plot( X, S )\n",
        "plt.show()"
      ]
    },
    {
      "cell_type": "markdown",
      "metadata": {},
      "source": [
        "It is possible, using similar syntax to MATLAB, to add axis labels, graph titles, change colors, line thickness, shapes, and more. Additionally, you can render mathematical formulas directly within the text on the graph using LaTeX syntax. Take a look at the following example:"
      ]
    },
    {
      "cell_type": "code",
      "execution_count": null,
      "metadata": {},
      "outputs": [],
      "source": [
        "X    = np.linspace(-np.pi, np.pi, 256, endpoint=True)\n",
        "C, S = np.cos(X), np.sin(X)\n",
        "R    = np.random.uniform(-1,1,256) #uniformni šum od -1 do 1\n",
        "\n",
        "plt.plot( X, R, 'm-', label=\"uniform noise\") #boja magenta, linija\n",
        "plt.plot( X, C, 'ro', label=\"cosine\")        #boja red, krugovi\n",
        "plt.plot( X, S, 'g.', label=\"sine\" )         #boja green, točkice\n",
        "plt.xlabel(r\"$x$ os - raspon od $-\\pi$ do $\\pi$ \") \n",
        "plt.ylabel(r\"Vrijednost amplitude sinusa i kosinusa \") \n",
        "plt.title(r\"Hello pyplot - $\\sqrt{x^2 + y^2}$!\")\n",
        "plt.legend(loc=\"upper left\")\n",
        "plt.grid()\n",
        "plt.show()"
      ]
    },
    {
      "cell_type": "markdown",
      "metadata": {},
      "source": [
        "In the example above, we notice r\"letter 'r' before strings\" in functions like xlabel, ylabel, and title. The reason for this is the backslash (\\) characters within the string. The letter r before a string indicates that it is a raw string, meaning that the characters inside the string will not be escaped. These backslashes are necessary because matplotlib includes a LaTeX interpreter that converts LaTeX syntax into mathematical formulas.\n",
        "\n",
        "#### Vertical Lines\n",
        "Another common way to represent data in graphs, besides curves, is by using vertical lines. This is often used for quantitatively displaying data by categories (e.g., how many members belong to each category). A commonly used example is displaying exam results. In this case, we have 5 vertical lines representing 5 grades, and the height of each vertical line (or bar) represents how many grades fall into that category. Let's take a look at the following example:"
      ]
    },
    {
      "cell_type": "code",
      "execution_count": null,
      "metadata": {},
      "outputs": [],
      "source": [
        "broj_ocjena = [ 7, 12, 18, 9, 5 ]\n",
        "ocjene = [ 1, 2, 3, 4, 5 ]\n",
        "\n",
        "plt.plot(ocjene, broj_ocjena)"
      ]
    },
    {
      "cell_type": "code",
      "execution_count": null,
      "metadata": {},
      "outputs": [],
      "source": [
        "plt.bar(ocjene, broj_ocjena, color='magenta') #moguće je mijenjati boju stupaca"
      ]
    },
    {
      "cell_type": "markdown",
      "metadata": {},
      "source": [
        "From this graph, it is immediately clear what the grades are, how many categories of grades there are, and which grades are most common. However, what if we have many categories that need to be displayed? An example is if we want to show the change in temperature over a part of the year, and we have 150 days for which we want to display the temperature for each individual day.\n",
        "\n",
        "In this case, using individual vertical bars for each day would make the graph cluttered and difficult to interpret. Instead, we could use a line plot to represent this type of data. Line plots are more suitable for showing trends over time, especially when there are many data points.\n",
        "\n",
        "Here's an example using a line plot to display temperature over 150 days:"
      ]
    },
    {
      "cell_type": "code",
      "execution_count": null,
      "metadata": {},
      "outputs": [],
      "source": [
        "temps = np.random.poisson(20,150) #uzima 150 random vrijednosti iz poissonove distribucije \n",
        "\n",
        "plt.bar(np.arange(len(temps)), temps)"
      ]
    },
    {
      "cell_type": "markdown",
      "metadata": {},
      "source": [
        "In such a case, the graph doesn't look very appealing because matplotlib tries to outline each bar with a black line and fill the bar with a color (default is blue). When we have many categories to display, a better approach is to draw only a vertical line instead of a bar. This can be done using the plt.vlines() function.\n",
        "\n",
        "Here's an example of how to use plt.vlines() to represent temperature changes over multiple days:"
      ]
    },
    {
      "cell_type": "code",
      "execution_count": null,
      "metadata": {},
      "outputs": [],
      "source": [
        "plt.vlines(np.arange(len(temps)), 0 , temps)"
      ]
    },
    {
      "cell_type": "markdown",
      "metadata": {},
      "source": [
        "In the previous example, the plt.bar() function took two parameters: arrays of values for the $x$ and $y$ axes. The plt.vlines() function takes three parameters, where the first parameter is, like in plt.bar(), the array of values on the $x$ axis. The second parameter here is the minimum value of the line on the $y$ axis, and the third parameter is the values on the $y$ axis up to which the lines should be drawn.\n",
        "\n",
        "As with the previous examples, vertical lines can also be customized, such as changing their color, adding text, and plotting multiple different types of plots on the same graph.\n",
        "\n",
        "Here's an example showing how to customize vertical lines and combine multiple types of plots:"
      ]
    },
    {
      "cell_type": "code",
      "execution_count": null,
      "metadata": {},
      "outputs": [],
      "source": [
        "temps = np.random.poisson(20,150)\n",
        "temps3 = temps.copy()\n",
        "temps2 = np.zeros_like(temps)\n",
        "temps2[70:] = temps[70:].copy()\n",
        "temps[70:] = 0\n",
        "\n",
        "plt.plot(np.arange(1,len(temps3)+1), temps3, label=\"maximum\", color=\"red\")\n",
        "plt.vlines(np.arange(1,len(temps)+1),0, temps, label=\"sijecanj\", color=\"magenta\")\n",
        "plt.vlines(np.arange(1,len(temps2)+1),0, temps2, label=\"veljaca\", color=\"green\")\n",
        "plt.legend(loc=\"upper left\")\n",
        "plt.show()"
      ]
    },
    {
      "cell_type": "markdown",
      "metadata": {},
      "source": [
        "## Noise\n",
        "\n",
        "Wikipedia: [Image noise]( https://en.wikipedia.org/wiki/Image_noise )\n",
        "\n",
        "### Gaussian noise\n",
        "\n",
        "Gaussian noise represents statistical noise where the probability of a particular value occurring follows a normal or Gaussian distribution.\n",
        "\n",
        "The probability of occurrence for a random value $z$ is given by:\n",
        "\n",
        "![gauss formula](https://upload.wikimedia.org/math/c/7/0/c70012e2b38059f77ba8b6bb4cea7e2c.png)\n",
        "\n",
        "where $z$ is the gray level, $\\mu$ is the mean value, and $\\sigma$ is the standard deviation.\n",
        "\n",
        "The Gaussian distribution with given parameters $\\mu$ and $\\sigma$ looks like:\n",
        "\n",
        "![gauss distrib](https://upload.wikimedia.org/wikipedia/commons/thumb/7/74/Normal_Distribution_PDF.svg/720px-Normal_Distribution_PDF.svg.png)\n",
        "\n",
        "Više o Gaussovom šumu: \n",
        "\n",
        "- [Gaussian distribution](https://en.wikipedia.org/wiki/Gaussian_distribution)\n",
        "- [Gaussian noise](https://en.wikipedia.org/wiki/Gaussian_noise)\n",
        "\n",
        "**We can plot the shape of a Gaussian distribution using the following code:**\n"
      ]
    },
    {
      "cell_type": "code",
      "execution_count": null,
      "metadata": {},
      "outputs": [],
      "source": [
        "mu = 0\n",
        "sigma = 0.1\n",
        "gauss = np.random.normal(mu, sigma, 100000)\n",
        "hist,bins = np.histogram(gauss, bins=256 )\n",
        "plt.vlines(bins[1:], 0, hist)"
      ]
    },
    {
      "cell_type": "markdown",
      "metadata": {},
      "source": [
        "### Uniform noise\n",
        "\n",
        "\n",
        "Uniform noise, also known as quantization noise, typically occurs during the quantization of pixel values in an input image to a certain number of discrete levels. It has an approximately uniform distribution, meaning that every value within a certain range has an equal probability of occurring.\n",
        "\n",
        "![uniform_formula](https://upload.wikimedia.org/math/8/f/b/8fbfebfbb3dfa135da807a45374376d5.png)\n",
        "\n",
        "where $a$ and $b$ are the boundaries within which a value can occur.\n",
        "\n",
        "Here is what a uniform distribution looks like:\n",
        "\n",
        "![uniform_dist](https://upload.wikimedia.org/wikipedia/commons/9/96/Uniform_Distribution_PDF_SVG.svg)\n",
        "\n",
        "More about this topic can be found here:\n",
        "\n",
        "- [ Quantization (Uniform) noise ](https://en.wikipedia.org/wiki/Image_noise#Quantization_noise_.28uniform_noise.29) \n",
        "- [ Uniform distribution ]( https://en.wikipedia.org/wiki/Uniform_distribution_%28continuous%29)"
      ]
    },
    {
      "cell_type": "markdown",
      "metadata": {},
      "source": [
        "### Salt and pepper noise\n",
        "\n",
        "Salt and pepper noise is a type of noise where a certain percentage of random pixels in the image are either white or black.\n",
        "\n",
        "![snp](https://upload.wikimedia.org/wikipedia/commons/thumb/f/f4/Noise_salt_and_pepper.png/220px-Noise_salt_and_pepper.png)"
      ]
    },
    {
      "cell_type": "markdown",
      "metadata": {},
      "source": [
        "## Noise Implementation\n",
        "\n",
        "The following code contains an implementation of two types of noise:\n"
      ]
    },
    {
      "cell_type": "code",
      "execution_count": null,
      "metadata": {},
      "outputs": [],
      "source": [
        "def gaussian_noise(img, mu, sigma):\n",
        "  # generiraj nasumicne brojeve Gaussove distribucije\n",
        "  noise = np.random.normal(mu, sigma, img.shape)\n",
        "  return noise.astype(np.uint8)\n",
        "\n",
        "def salt_n_pepper_noise(img, percent=10):\n",
        "  limit = ((float(percent)/2.0)/100.0) * 255.0\n",
        "  noise = np.random.uniform(0,255, img.shape)\n",
        "  return noise.astype(np.uint8)"
      ]
    },
    {
      "cell_type": "markdown",
      "metadata": {},
      "source": [
        "## Task 1\n",
        "\n",
        "Load an arbitrary image and add Gaussian noise to it using the function defined above. Display the original image and the image with added noise in the same code cell. When displaying the images, set the `imshow` argument `cmap='gray'`. Assign a title to each image that corresponds to it (With Noise / Without Noise).\n",
        "\n",
        "Tip: You can use `plt.show()` to display the current state on the screen and allow plotting of a new graph."
      ]
    },
    {
      "cell_type": "code",
      "execution_count": null,
      "metadata": {},
      "outputs": [],
      "source": []
    },
    {
      "cell_type": "markdown",
      "metadata": {},
      "source": [
        "## Task 2\n",
        "\n",
        "Using the `plt.hist` function, display the histogram of the original image and the image with added noise in the same code cell. Assign a title to each histogram. Set the `bins` parameter to the maximum value suitable for the image. Tip: Numpy arrays have a `.flatten()` method that converts the matrix into a 1D array of numbers."
      ]
    },
    {
      "cell_type": "code",
      "execution_count": null,
      "metadata": {},
      "outputs": [],
      "source": []
    },
    {
      "cell_type": "markdown",
      "metadata": {},
      "source": [
        "## Task 3\n",
        "\n",
        "Based on the `gaussian_noise` function and the formula for uniform noise above, implement a function that returns uniform noise for the parameters `a` and `b`."
      ]
    },
    {
      "cell_type": "code",
      "execution_count": null,
      "metadata": {},
      "outputs": [],
      "source": []
    },
    {
      "cell_type": "markdown",
      "metadata": {},
      "source": [
        "Display in the same code cell the original image, the same image with Gaussian noise, and the same image with uniform noise.\n"
      ]
    },
    {
      "cell_type": "code",
      "execution_count": null,
      "metadata": {},
      "outputs": [],
      "source": []
    },
    {
      "cell_type": "markdown",
      "metadata": {},
      "source": [
        "# Median filtering\n",
        "\n",
        "### Brief Description\n",
        "\n",
        "The median filter is normally used to reduce noise\n",
        "in an image, somewhat like the mean  (averaging) filter. However, it often does a\n",
        "better job than the mean filter of preserving useful detail in the\n",
        "image.\n",
        "\n",
        "\n",
        "### How It Works\n",
        "\n",
        "Like the mean (averaging) filter, the median filter considers each pixel in the\n",
        "image in turn and looks at its nearby neighbors to decide whether or\n",
        "not it is representative of its surroundings. Instead of simply\n",
        "replacing the pixel value with the <EM>mean</EM> of neighboring pixel\n",
        "values, it replaces it with the <EM>median</EM> of those values. The\n",
        "median is calculated by first sorting all the pixel values from the\n",
        "surrounding neighborhood into numerical order and then replacing the\n",
        "pixel being considered with the middle pixel value.  (If the\n",
        "neighborhood under consideration contains an even number of pixels,\n",
        "the average of the two middle pixel values is used.) Following image \n",
        "illustrates an example calculation.\n",
        "\n",
        "<CENTER><IMG ALT=\"\" SRC=\"http://homepages.inf.ed.ac.uk/rbf/HIPR2/figs/med3x3.gif\"></CENTER>\n",
        "\n",
        " Calculating the median value of a pixel neighborhood. As\n",
        "can be seen, the central pixel value of 150 is rather unrepresentative\n",
        "of the surrounding pixels and is replaced with the median value:\n",
        "124. A 3&#215;3 square neighborhood is used here --- larger\n",
        "neighborhoods will produce more severe smoothing.\n",
        "\n",
        "### Guidelines for Use\n",
        "\n",
        "<P>By calculating the median value of a neighborhood rather than the\n",
        "mean value, the median filter has two main advantages over\n",
        "the mean filter:\n",
        "\n",
        "- The median is a more robust average than the mean and so a\n",
        "single very unrepresentative pixel in a neighborhood will not affect\n",
        "the median value significantly.\n",
        "\n",
        "- Since the median value must actually be the value of one of the\n",
        "pixels in the neighborhood, the median filter does not create new\n",
        "unrealistic pixel values when the filter straddles an edge. For this\n",
        "reason the median filter is much better at preserving sharp edges than\n",
        "the mean filter.\n",
        "\n",
        "You can use median filter with the following code:\n",
        "\n",
        "```\n",
        "median = cv2.medianBlur( image, radius )\n",
        "```\n",
        "\n",
        "where image is numpy array containing the image, and radius is an integer which\n",
        "defines the radius of the neighborhood for filtering.\n",
        "\n",
        "You can use gaussian blur filter with the following code:\n",
        "\n",
        "```\n",
        "blur = cv2.GaussianBlur( image, (kernelXsize, kernelYsize), sigma )\n",
        "```\n",
        "\n",
        "where image is numpy array containing the image, (kernelXsize, kernelYsize) is\n",
        "a tuple containing the size of the kernel ( e.g. `(5, 5)` for 5x5 kernel ) and\n",
        "sigma is the value of $`  \\sigma  `$ parameter."
      ]
    },
    {
      "cell_type": "markdown",
      "metadata": {},
      "source": [
        "## Task 4\n",
        "\n",
        "Corrupt an arbitrary image with 10% salt and pepper noise. Apply a median filter to the image and display the original and filtered images. Visually determine the best filter parameters that will remove the noise but not blur the image too much."
      ]
    },
    {
      "cell_type": "code",
      "execution_count": null,
      "metadata": {},
      "outputs": [],
      "source": []
    },
    {
      "cell_type": "markdown",
      "metadata": {},
      "source": [
        "Apply Gaussian blur to the corrupted image and display the original and filtered images. Visually determine the best filter parameters that will remove the noise without blurring the image too much."
      ]
    },
    {
      "cell_type": "markdown",
      "metadata": {},
      "source": []
    },
    {
      "cell_type": "markdown",
      "metadata": {},
      "source": [
        "## Task 5\n",
        "\n",
        "Corrupt an arbitrary image with Gaussian noise with sigma = 15. Apply a median filter to the image and display the original and filtered images. Visually determine the best filter parameters that will remove the noise without blurring the image too much."
      ]
    },
    {
      "cell_type": "code",
      "execution_count": null,
      "metadata": {},
      "outputs": [],
      "source": []
    },
    {
      "cell_type": "markdown",
      "metadata": {},
      "source": [
        "Apply Gaussian blur to the corrupted image and display the original and filtered images. Visually determine the best filter parameters that will remove the noise without blurring the image too much."
      ]
    },
    {
      "cell_type": "code",
      "execution_count": null,
      "metadata": {},
      "outputs": [],
      "source": []
    },
    {
      "cell_type": "markdown",
      "metadata": {},
      "source": [
        "Don't forget to save the notebook. :)"
      ]
    }
  ],
  "metadata": {
    "colab": {
      "authorship_tag": "ABX9TyPdsk5aJ45he4xMUxx8bkpd",
      "include_colab_link": true,
      "name": "lab1.ipynb",
      "provenance": []
    },
    "kernelspec": {
      "display_name": "Python 3",
      "name": "python3"
    },
    "language_info": {
      "codemirror_mode": {
        "name": "ipython",
        "version": 3
      },
      "file_extension": ".py",
      "mimetype": "text/x-python",
      "name": "python",
      "nbconvert_exporter": "python",
      "pygments_lexer": "ipython3",
      "version": "3.9.17"
    }
  },
  "nbformat": 4,
  "nbformat_minor": 0
}
